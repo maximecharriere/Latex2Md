{
 "metadata": {
  "language_info": {
   "codemirror_mode": {
    "name": "ipython",
    "version": 3
   },
   "file_extension": ".py",
   "mimetype": "text/x-python",
   "name": "python",
   "nbconvert_exporter": "python",
   "pygments_lexer": "ipython3",
   "version": 3
  },
  "orig_nbformat": 2
 },
 "nbformat": 4,
 "nbformat_minor": 2,
 "cells": [
  {
   "source": [
    "## Inline\n",
    "$ err=\\sum_{i=1}^N\\omega_i\\|p_i'-q_i\\|^2 $"
   ],
   "cell_type": "markdown",
   "metadata": {}
  },
  {
   "source": [
    "## Display\n",
    "$$ err=\\sum_{i=1}^N\\omega_i\\|p_i'-q_i\\|^2 $$"
   ],
   "cell_type": "markdown",
   "metadata": {}
  },
  {
   "source": [
    "## Preconfigurated color\n",
    "$ \\color{red}err=\\sum_{i=1}^N\\omega_i\\|p_i'-q_i\\|^2 $"
   ],
   "cell_type": "markdown",
   "metadata": {}
  },
  {
   "source": [
    "## Custom color\n",
    "$ \\color[rgb]{1,0,0} err=\\sum_{i=1}^N\\omega_i\\|p_i'-q_i\\|^2 $"
   ],
   "cell_type": "markdown",
   "metadata": {}
  }
 ]
}